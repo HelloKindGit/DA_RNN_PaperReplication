{
  "nbformat": 4,
  "nbformat_minor": 0,
  "metadata": {
    "colab": {
      "provenance": [],
      "authorship_tag": "ABX9TyN5mxQZnv8qCCqOzTZ9EbPy",
      "include_colab_link": true
    },
    "kernelspec": {
      "name": "python3",
      "display_name": "Python 3"
    },
    "language_info": {
      "name": "python"
    }
  },
  "cells": [
    {
      "cell_type": "markdown",
      "metadata": {
        "id": "view-in-github",
        "colab_type": "text"
      },
      "source": [
        "<a href=\"https://colab.research.google.com/github/HelloKindGit/DA_RNN_PaperReplication/blob/main/A_Dual_Stage_Attention_Based_Recurrent_Neural_Network_for_Time_Series_Prediction_NASDAQ100_Paper_Replication.ipynb\" target=\"_parent\"><img src=\"https://colab.research.google.com/assets/colab-badge.svg\" alt=\"Open In Colab\"/></a>"
      ]
    },
    {
      "cell_type": "markdown",
      "source": [
        "This Project is Made in Google Colab\n",
        "- Paper: https://arxiv.org/abs/1704.02971"
      ],
      "metadata": {
        "id": "iAXu7Xwg3J0K"
      }
    },
    {
      "cell_type": "markdown",
      "source": [
        "## Imports"
      ],
      "metadata": {
        "id": "2_rCR02-dQ4-"
      }
    },
    {
      "cell_type": "code",
      "execution_count": 1,
      "metadata": {
        "id": "Fd0rOsZgdJCr",
        "colab": {
          "base_uri": "https://localhost:8080/"
        },
        "outputId": "e5b93894-c9ed-4986-bfe1-96a09c1b3664"
      },
      "outputs": [
        {
          "output_type": "stream",
          "name": "stdout",
          "text": [
            "Looking in indexes: https://pypi.org/simple, https://us-python.pkg.dev/colab-wheels/public/simple/\n",
            "Collecting torchinfo\n",
            "  Downloading torchinfo-1.8.0-py3-none-any.whl (23 kB)\n",
            "Installing collected packages: torchinfo\n",
            "Successfully installed torchinfo-1.8.0\n",
            "Looking in indexes: https://pypi.org/simple, https://us-python.pkg.dev/colab-wheels/public/simple/\n",
            "Collecting torchmetrics\n",
            "  Downloading torchmetrics-0.11.4-py3-none-any.whl (519 kB)\n",
            "\u001b[2K     \u001b[90m━━━━━━━━━━━━━━━━━━━━━━━━━━━━━━━━━━━━━━━\u001b[0m \u001b[32m519.2/519.2 kB\u001b[0m \u001b[31m8.3 MB/s\u001b[0m eta \u001b[36m0:00:00\u001b[0m\n",
            "\u001b[?25hRequirement already satisfied: numpy>=1.17.2 in /usr/local/lib/python3.10/dist-packages (from torchmetrics) (1.22.4)\n",
            "Requirement already satisfied: torch>=1.8.1 in /usr/local/lib/python3.10/dist-packages (from torchmetrics) (2.0.1+cu118)\n",
            "Requirement already satisfied: packaging in /usr/local/lib/python3.10/dist-packages (from torchmetrics) (23.1)\n",
            "Requirement already satisfied: filelock in /usr/local/lib/python3.10/dist-packages (from torch>=1.8.1->torchmetrics) (3.12.0)\n",
            "Requirement already satisfied: typing-extensions in /usr/local/lib/python3.10/dist-packages (from torch>=1.8.1->torchmetrics) (4.5.0)\n",
            "Requirement already satisfied: sympy in /usr/local/lib/python3.10/dist-packages (from torch>=1.8.1->torchmetrics) (1.11.1)\n",
            "Requirement already satisfied: networkx in /usr/local/lib/python3.10/dist-packages (from torch>=1.8.1->torchmetrics) (3.1)\n",
            "Requirement already satisfied: jinja2 in /usr/local/lib/python3.10/dist-packages (from torch>=1.8.1->torchmetrics) (3.1.2)\n",
            "Requirement already satisfied: triton==2.0.0 in /usr/local/lib/python3.10/dist-packages (from torch>=1.8.1->torchmetrics) (2.0.0)\n",
            "Requirement already satisfied: cmake in /usr/local/lib/python3.10/dist-packages (from triton==2.0.0->torch>=1.8.1->torchmetrics) (3.25.2)\n",
            "Requirement already satisfied: lit in /usr/local/lib/python3.10/dist-packages (from triton==2.0.0->torch>=1.8.1->torchmetrics) (16.0.5)\n",
            "Requirement already satisfied: MarkupSafe>=2.0 in /usr/local/lib/python3.10/dist-packages (from jinja2->torch>=1.8.1->torchmetrics) (2.1.2)\n",
            "Requirement already satisfied: mpmath>=0.19 in /usr/local/lib/python3.10/dist-packages (from sympy->torch>=1.8.1->torchmetrics) (1.3.0)\n",
            "Installing collected packages: torchmetrics\n",
            "Successfully installed torchmetrics-0.11.4\n"
          ]
        }
      ],
      "source": [
        "#Built-in libraries\n",
        "import math\n",
        "import os\n",
        "import pickle\n",
        "import random\n",
        "import re\n",
        "import urllib.request\n",
        "import zipfile\n",
        "from datetime import datetime\n",
        "from os import listdir\n",
        "from pathlib import Path\n",
        "from timeit import default_timer as timer \n",
        "\n",
        "#Third-party libraries for data handling and visualization\n",
        "import matplotlib.pyplot as plt\n",
        "import numpy as np\n",
        "import pandas as pd\n",
        "from sklearn.preprocessing import MinMaxScaler\n",
        "from tqdm.auto import tqdm\n",
        "\n",
        "#PyTorch and related libraries\n",
        "import torch\n",
        "import torch.nn as nn\n",
        "import torch.optim as optim\n",
        "from torch.utils.data import Dataset, DataLoader, TensorDataset\n",
        "from torch.utils.tensorboard import SummaryWriter\n",
        "\n",
        "#External PyTorch packages\n",
        "try: \n",
        "    import torchinfo\n",
        "except:\n",
        "    !pip install torchinfo\n",
        "    import torchinfo\n",
        "from torchinfo import summary\n",
        "\n",
        "try: \n",
        "    import torchmetrics\n",
        "except:\n",
        "    !pip install torchmetrics\n",
        "    import torchmetrics\n",
        "from torchmetrics import MeanAbsolutePercentageError as MAPE\n",
        "\n",
        "#Extra imports\n",
        "from prettytable import PrettyTable"
      ]
    },
    {
      "cell_type": "code",
      "source": [
        "#device agnostic code\n",
        "device = \"cuda\" if torch.cuda.is_available() else \"cpu\""
      ],
      "metadata": {
        "id": "Vcau6etsgSkb"
      },
      "execution_count": 2,
      "outputs": []
    },
    {
      "cell_type": "markdown",
      "source": [
        "#Data Import"
      ],
      "metadata": {
        "id": "w0ERCyLTdjhN"
      }
    },
    {
      "cell_type": "markdown",
      "source": [
        "## NASDAQ100\n",
        "\n",
        "A Dual-Stage Attention-Based Recurrent Neural Network for Time Series Prediction\n",
        "Qin, Y., Song, D., Cheng, H., Cheng, W., Jiang, G., Cottrell, G.\n",
        "International Joint Conference on Artificial Intelligence (IJCAI) , 2017\n",
        "https://cseweb.ucsd.edu/~yaq007/NASDAQ100_stock_data.html"
      ],
      "metadata": {
        "id": "Sza0-otpiZkA"
      }
    },
    {
      "cell_type": "code",
      "source": [
        "# Setup path to data folder\n",
        "data_path = Path(\"Datasets/\")\n",
        "file_path = data_path / \"nasdaq_data\"\n",
        "\n",
        "# If the folder doesn't exist, download and extract it\n",
        "if not file_path.is_dir():\n",
        "  print(f\"Did not find {file_path} directory, creating one and downloading data...\")\n",
        "  file_path.mkdir(parents=True, exist_ok=True)\n",
        "\n",
        "  data_url = \"https://cseweb.ucsd.edu/~yaq007/nasdaq100.zip\"\n",
        "  zip_file_path = data_path / \"nasdaq_data.zip\"\n",
        "  urllib.request.urlretrieve(data_url, zip_file_path)\n",
        "\n",
        "  print(\"Unzipping data...\") \n",
        "  with zipfile.ZipFile(zip_file_path, \"r\") as zip_ref:\n",
        "    zip_ref.extractall(file_path)\n",
        "\n",
        "  os.remove(zip_file_path)\n",
        "else:\n",
        "  print(f\"{file_path} directory exists.\")"
      ],
      "metadata": {
        "colab": {
          "base_uri": "https://localhost:8080/"
        },
        "id": "37e6SKLfeKPK",
        "outputId": "94b065ab-d74b-42b1-daac-7fbfd4cebbfb"
      },
      "execution_count": 3,
      "outputs": [
        {
          "output_type": "stream",
          "name": "stdout",
          "text": [
            "Did not find Datasets/nasdaq_data directory, creating one and downloading data...\n",
            "Unzipping data...\n"
          ]
        }
      ]
    },
    {
      "cell_type": "code",
      "source": [
        "data = pd.read_csv(\"/content/Datasets/nasdaq_data/nasdaq100/small/nasdaq100_padding.csv\")"
      ],
      "metadata": {
        "id": "qFhpWbDwet_0"
      },
      "execution_count": 4,
      "outputs": []
    },
    {
      "cell_type": "code",
      "source": [
        "print(data.shape)\n",
        "data.head()"
      ],
      "metadata": {
        "id": "fO3GbN2oTLKV",
        "colab": {
          "base_uri": "https://localhost:8080/",
          "height": 253
        },
        "outputId": "8db4706a-984d-4e07-d9bf-d375ee098714"
      },
      "execution_count": 5,
      "outputs": [
        {
          "output_type": "stream",
          "name": "stdout",
          "text": [
            "(40560, 82)\n"
          ]
        },
        {
          "output_type": "execute_result",
          "data": {
            "text/plain": [
              "       AAL   AAPL   ADBE    ADI      ADP       ADSK   AKAM     ALXN    AMAT  \\\n",
              "0  35.9800  96.80  97.80  61.15  95.4000  58.180000  58.00  127.040  26.680   \n",
              "1  35.9310  96.89  97.80  61.61  95.4115  58.190000  58.12  126.060  26.730   \n",
              "2  35.9044  96.95  97.57  61.98  95.5100  58.203333  57.95  126.510  26.712   \n",
              "3  35.8900  96.97  97.55  62.09  95.5200  58.216667  57.96  126.280  26.740   \n",
              "4  36.0080  96.96  97.73  61.89  95.5300  58.230000  58.21  126.585  26.720   \n",
              "\n",
              "       AMGN  ...    TXN    VIAB      VOD    VRTX     WBA    WDC    WFM   XLNX  \\\n",
              "0  165.8100  ...  70.73  45.230  31.1701  95.270  81.365  52.16  33.95  48.61   \n",
              "1  165.9101  ...  70.69  45.010  31.1900  94.170  81.540  52.15  34.10  48.74   \n",
              "2  166.1800  ...  71.30  45.015  31.2100  94.749  81.530  52.27  34.01  48.99   \n",
              "3  166.1480  ...  71.31  45.020  31.2100  94.310  81.710  52.30  33.96  48.95   \n",
              "4  165.9900  ...  71.06  45.050  31.1800  94.155  81.720  52.30  34.17  48.89   \n",
              "\n",
              "     YHOO       NDX  \n",
              "0  38.010  4665.054  \n",
              "1  38.140  4665.054  \n",
              "2  38.150  4665.826  \n",
              "3  38.195  4667.081  \n",
              "4  38.320  4664.491  \n",
              "\n",
              "[5 rows x 82 columns]"
            ],
            "text/html": [
              "\n",
              "  <div id=\"df-16b3e731-4121-49d5-9406-c5785e898335\">\n",
              "    <div class=\"colab-df-container\">\n",
              "      <div>\n",
              "<style scoped>\n",
              "    .dataframe tbody tr th:only-of-type {\n",
              "        vertical-align: middle;\n",
              "    }\n",
              "\n",
              "    .dataframe tbody tr th {\n",
              "        vertical-align: top;\n",
              "    }\n",
              "\n",
              "    .dataframe thead th {\n",
              "        text-align: right;\n",
              "    }\n",
              "</style>\n",
              "<table border=\"1\" class=\"dataframe\">\n",
              "  <thead>\n",
              "    <tr style=\"text-align: right;\">\n",
              "      <th></th>\n",
              "      <th>AAL</th>\n",
              "      <th>AAPL</th>\n",
              "      <th>ADBE</th>\n",
              "      <th>ADI</th>\n",
              "      <th>ADP</th>\n",
              "      <th>ADSK</th>\n",
              "      <th>AKAM</th>\n",
              "      <th>ALXN</th>\n",
              "      <th>AMAT</th>\n",
              "      <th>AMGN</th>\n",
              "      <th>...</th>\n",
              "      <th>TXN</th>\n",
              "      <th>VIAB</th>\n",
              "      <th>VOD</th>\n",
              "      <th>VRTX</th>\n",
              "      <th>WBA</th>\n",
              "      <th>WDC</th>\n",
              "      <th>WFM</th>\n",
              "      <th>XLNX</th>\n",
              "      <th>YHOO</th>\n",
              "      <th>NDX</th>\n",
              "    </tr>\n",
              "  </thead>\n",
              "  <tbody>\n",
              "    <tr>\n",
              "      <th>0</th>\n",
              "      <td>35.9800</td>\n",
              "      <td>96.80</td>\n",
              "      <td>97.80</td>\n",
              "      <td>61.15</td>\n",
              "      <td>95.4000</td>\n",
              "      <td>58.180000</td>\n",
              "      <td>58.00</td>\n",
              "      <td>127.040</td>\n",
              "      <td>26.680</td>\n",
              "      <td>165.8100</td>\n",
              "      <td>...</td>\n",
              "      <td>70.73</td>\n",
              "      <td>45.230</td>\n",
              "      <td>31.1701</td>\n",
              "      <td>95.270</td>\n",
              "      <td>81.365</td>\n",
              "      <td>52.16</td>\n",
              "      <td>33.95</td>\n",
              "      <td>48.61</td>\n",
              "      <td>38.010</td>\n",
              "      <td>4665.054</td>\n",
              "    </tr>\n",
              "    <tr>\n",
              "      <th>1</th>\n",
              "      <td>35.9310</td>\n",
              "      <td>96.89</td>\n",
              "      <td>97.80</td>\n",
              "      <td>61.61</td>\n",
              "      <td>95.4115</td>\n",
              "      <td>58.190000</td>\n",
              "      <td>58.12</td>\n",
              "      <td>126.060</td>\n",
              "      <td>26.730</td>\n",
              "      <td>165.9101</td>\n",
              "      <td>...</td>\n",
              "      <td>70.69</td>\n",
              "      <td>45.010</td>\n",
              "      <td>31.1900</td>\n",
              "      <td>94.170</td>\n",
              "      <td>81.540</td>\n",
              "      <td>52.15</td>\n",
              "      <td>34.10</td>\n",
              "      <td>48.74</td>\n",
              "      <td>38.140</td>\n",
              "      <td>4665.054</td>\n",
              "    </tr>\n",
              "    <tr>\n",
              "      <th>2</th>\n",
              "      <td>35.9044</td>\n",
              "      <td>96.95</td>\n",
              "      <td>97.57</td>\n",
              "      <td>61.98</td>\n",
              "      <td>95.5100</td>\n",
              "      <td>58.203333</td>\n",
              "      <td>57.95</td>\n",
              "      <td>126.510</td>\n",
              "      <td>26.712</td>\n",
              "      <td>166.1800</td>\n",
              "      <td>...</td>\n",
              "      <td>71.30</td>\n",
              "      <td>45.015</td>\n",
              "      <td>31.2100</td>\n",
              "      <td>94.749</td>\n",
              "      <td>81.530</td>\n",
              "      <td>52.27</td>\n",
              "      <td>34.01</td>\n",
              "      <td>48.99</td>\n",
              "      <td>38.150</td>\n",
              "      <td>4665.826</td>\n",
              "    </tr>\n",
              "    <tr>\n",
              "      <th>3</th>\n",
              "      <td>35.8900</td>\n",
              "      <td>96.97</td>\n",
              "      <td>97.55</td>\n",
              "      <td>62.09</td>\n",
              "      <td>95.5200</td>\n",
              "      <td>58.216667</td>\n",
              "      <td>57.96</td>\n",
              "      <td>126.280</td>\n",
              "      <td>26.740</td>\n",
              "      <td>166.1480</td>\n",
              "      <td>...</td>\n",
              "      <td>71.31</td>\n",
              "      <td>45.020</td>\n",
              "      <td>31.2100</td>\n",
              "      <td>94.310</td>\n",
              "      <td>81.710</td>\n",
              "      <td>52.30</td>\n",
              "      <td>33.96</td>\n",
              "      <td>48.95</td>\n",
              "      <td>38.195</td>\n",
              "      <td>4667.081</td>\n",
              "    </tr>\n",
              "    <tr>\n",
              "      <th>4</th>\n",
              "      <td>36.0080</td>\n",
              "      <td>96.96</td>\n",
              "      <td>97.73</td>\n",
              "      <td>61.89</td>\n",
              "      <td>95.5300</td>\n",
              "      <td>58.230000</td>\n",
              "      <td>58.21</td>\n",
              "      <td>126.585</td>\n",
              "      <td>26.720</td>\n",
              "      <td>165.9900</td>\n",
              "      <td>...</td>\n",
              "      <td>71.06</td>\n",
              "      <td>45.050</td>\n",
              "      <td>31.1800</td>\n",
              "      <td>94.155</td>\n",
              "      <td>81.720</td>\n",
              "      <td>52.30</td>\n",
              "      <td>34.17</td>\n",
              "      <td>48.89</td>\n",
              "      <td>38.320</td>\n",
              "      <td>4664.491</td>\n",
              "    </tr>\n",
              "  </tbody>\n",
              "</table>\n",
              "<p>5 rows × 82 columns</p>\n",
              "</div>\n",
              "      <button class=\"colab-df-convert\" onclick=\"convertToInteractive('df-16b3e731-4121-49d5-9406-c5785e898335')\"\n",
              "              title=\"Convert this dataframe to an interactive table.\"\n",
              "              style=\"display:none;\">\n",
              "        \n",
              "  <svg xmlns=\"http://www.w3.org/2000/svg\" height=\"24px\"viewBox=\"0 0 24 24\"\n",
              "       width=\"24px\">\n",
              "    <path d=\"M0 0h24v24H0V0z\" fill=\"none\"/>\n",
              "    <path d=\"M18.56 5.44l.94 2.06.94-2.06 2.06-.94-2.06-.94-.94-2.06-.94 2.06-2.06.94zm-11 1L8.5 8.5l.94-2.06 2.06-.94-2.06-.94L8.5 2.5l-.94 2.06-2.06.94zm10 10l.94 2.06.94-2.06 2.06-.94-2.06-.94-.94-2.06-.94 2.06-2.06.94z\"/><path d=\"M17.41 7.96l-1.37-1.37c-.4-.4-.92-.59-1.43-.59-.52 0-1.04.2-1.43.59L10.3 9.45l-7.72 7.72c-.78.78-.78 2.05 0 2.83L4 21.41c.39.39.9.59 1.41.59.51 0 1.02-.2 1.41-.59l7.78-7.78 2.81-2.81c.8-.78.8-2.07 0-2.86zM5.41 20L4 18.59l7.72-7.72 1.47 1.35L5.41 20z\"/>\n",
              "  </svg>\n",
              "      </button>\n",
              "      \n",
              "  <style>\n",
              "    .colab-df-container {\n",
              "      display:flex;\n",
              "      flex-wrap:wrap;\n",
              "      gap: 12px;\n",
              "    }\n",
              "\n",
              "    .colab-df-convert {\n",
              "      background-color: #E8F0FE;\n",
              "      border: none;\n",
              "      border-radius: 50%;\n",
              "      cursor: pointer;\n",
              "      display: none;\n",
              "      fill: #1967D2;\n",
              "      height: 32px;\n",
              "      padding: 0 0 0 0;\n",
              "      width: 32px;\n",
              "    }\n",
              "\n",
              "    .colab-df-convert:hover {\n",
              "      background-color: #E2EBFA;\n",
              "      box-shadow: 0px 1px 2px rgba(60, 64, 67, 0.3), 0px 1px 3px 1px rgba(60, 64, 67, 0.15);\n",
              "      fill: #174EA6;\n",
              "    }\n",
              "\n",
              "    [theme=dark] .colab-df-convert {\n",
              "      background-color: #3B4455;\n",
              "      fill: #D2E3FC;\n",
              "    }\n",
              "\n",
              "    [theme=dark] .colab-df-convert:hover {\n",
              "      background-color: #434B5C;\n",
              "      box-shadow: 0px 1px 3px 1px rgba(0, 0, 0, 0.15);\n",
              "      filter: drop-shadow(0px 1px 2px rgba(0, 0, 0, 0.3));\n",
              "      fill: #FFFFFF;\n",
              "    }\n",
              "  </style>\n",
              "\n",
              "      <script>\n",
              "        const buttonEl =\n",
              "          document.querySelector('#df-16b3e731-4121-49d5-9406-c5785e898335 button.colab-df-convert');\n",
              "        buttonEl.style.display =\n",
              "          google.colab.kernel.accessAllowed ? 'block' : 'none';\n",
              "\n",
              "        async function convertToInteractive(key) {\n",
              "          const element = document.querySelector('#df-16b3e731-4121-49d5-9406-c5785e898335');\n",
              "          const dataTable =\n",
              "            await google.colab.kernel.invokeFunction('convertToInteractive',\n",
              "                                                     [key], {});\n",
              "          if (!dataTable) return;\n",
              "\n",
              "          const docLinkHtml = 'Like what you see? Visit the ' +\n",
              "            '<a target=\"_blank\" href=https://colab.research.google.com/notebooks/data_table.ipynb>data table notebook</a>'\n",
              "            + ' to learn more about interactive tables.';\n",
              "          element.innerHTML = '';\n",
              "          dataTable['output_type'] = 'display_data';\n",
              "          await google.colab.output.renderOutput(dataTable, element);\n",
              "          const docLink = document.createElement('div');\n",
              "          docLink.innerHTML = docLinkHtml;\n",
              "          element.appendChild(docLink);\n",
              "        }\n",
              "      </script>\n",
              "    </div>\n",
              "  </div>\n",
              "  "
            ]
          },
          "metadata": {},
          "execution_count": 5
        }
      ]
    },
    {
      "cell_type": "code",
      "source": [
        "data[\"AAPL\"].plot()"
      ],
      "metadata": {
        "id": "FjZ7rsa9si_C",
        "colab": {
          "base_uri": "https://localhost:8080/",
          "height": 447
        },
        "outputId": "fefef376-f7fb-4d77-e91b-04996110f53b"
      },
      "execution_count": 6,
      "outputs": [
        {
          "output_type": "execute_result",
          "data": {
            "text/plain": [
              "<Axes: >"
            ]
          },
          "metadata": {},
          "execution_count": 6
        },
        {
          "output_type": "display_data",
          "data": {
            "text/plain": [
              "<Figure size 640x480 with 1 Axes>"
            ],
            "image/png": "[encoded data removed]"
          },
          "metadata": {}
        }
      ]
    },
    {
      "cell_type": "code",
      "source": [
        "#original numbers from paper\n",
        "num_timesteps = 10\n",
        "train_length = 35100\n",
        "val_length = 2730 #test_length = 2730 -> which means the rest\n",
        "target_col = \"AAPL\" #prediction of AAPL data in NASDAQ100\n",
        "target_shift = -1\n",
        "\n",
        "#Generate X and y datasets\n",
        "#formt eine Zeitreihe in ein Format um, das zum Trainieren eines Modells geeignet ist, um 'AAPL' einen Schritt (target_shift) in die Zukunft vorherzusagen; basierend auf den letzten 10 Zeitschritten (num_timesteps) aller Spalten\n",
        "X = np.stack([data.loc[:, data.columns!=target_col].shift(num_timesteps - t - 1).fillna(method=\"bfill\").values for t in range(num_timesteps)], axis=1)\n",
        "y_h = np.stack([data[target_col].shift(num_timesteps - t - 1).fillna(method=\"bfill\").values for t in range(num_timesteps)], axis=1)\n",
        "y_h = np.expand_dims(y_h, axis=-1)\n",
        "target = data[target_col].shift(target_shift).fillna(method=\"ffill\").values\n",
        "\n",
        "# Define split function\n",
        "def split_and_normalize(data):\n",
        "    data_split = np.split(data, [train_length, train_length + val_length])\n",
        "    \n",
        "    #min/max from train split\n",
        "    data_min, data_max = data_split[0].min(axis=0), data_split[0].max(axis=0)\n",
        "\n",
        "    data_norm = [(part - data_min) / (data_max - data_min) for part in data_split]\n",
        "    data_norm = [torch.Tensor(part) for part in data_norm]\n",
        "    \n",
        "    return data_norm\n",
        "\n",
        "# Split and normalize datasets\n",
        "X_train_t, X_val_t, X_test_t = split_and_normalize(X)\n",
        "y_h_train_t, y_h_val_t, y_h_test_t = split_and_normalize(y_h)\n",
        "target_train_t, target_val_t, target_test_t = split_and_normalize(target)\n",
        "\n",
        "# Create DataLoaders\n",
        "batch_size = 128\n",
        "train_dataloader = DataLoader(TensorDataset(X_train_t, y_h_train_t, target_train_t), shuffle=False, batch_size=batch_size)\n",
        "val_dataloader = DataLoader(TensorDataset(X_val_t, y_h_val_t, target_val_t), shuffle=False, batch_size=batch_size)\n",
        "test_dataloader = DataLoader(TensorDataset(X_test_t, y_h_test_t, target_test_t), shuffle=False, batch_size=batch_size)\n"
      ],
      "metadata": {
        "id": "JX4ikRFqsuSX"
      },
      "execution_count": 7,
      "outputs": []
    },
    {
      "cell_type": "code",
      "source": [
        "X_train_t.shape, X_val_t.shape, X_test_t.shape, y_h_train_t.shape, y_h_val_t.shape, y_h_test_t.shape, target_train_t.shape, target_val_t.shape, target_test_t.shape"
      ],
      "metadata": {
        "id": "X6n5YRC_s_lV",
        "colab": {
          "base_uri": "https://localhost:8080/"
        },
        "outputId": "c44486cd-26a1-4115-f892-88b0ae94a246"
      },
      "execution_count": 8,
      "outputs": [
        {
          "output_type": "execute_result",
          "data": {
            "text/plain": [
              "(torch.Size([35100, 10, 81]),\n",
              " torch.Size([2730, 10, 81]),\n",
              " torch.Size([2730, 10, 81]),\n",
              " torch.Size([35100, 10, 1]),\n",
              " torch.Size([2730, 10, 1]),\n",
              " torch.Size([2730, 10, 1]),\n",
              " torch.Size([35100]),\n",
              " torch.Size([2730]),\n",
              " torch.Size([2730]))"
            ]
          },
          "metadata": {},
          "execution_count": 8
        }
      ]
    },
    {
      "cell_type": "code",
      "source": [
        "#scaling data to original values -> this will be needed for the plotting later on\n",
        "data_split = np.split(target, [train_length, train_length + val_length])\n",
        "#min/max from the training part of the split\n",
        "target_train_min, target_train_max = data_split[0].min(axis=0), data_split[0].max(axis=0)\n",
        "print(target_train_min, target_train_max)"
      ],
      "metadata": {
        "id": "e4x4AqZpQJ4V",
        "colab": {
          "base_uri": "https://localhost:8080/"
        },
        "outputId": "f8f69b11-ca07-49ed-bd34-7822e95da32b"
      },
      "execution_count": 9,
      "outputs": [
        {
          "output_type": "stream",
          "name": "stdout",
          "text": [
            "96.435 118.6285\n"
          ]
        }
      ]
    },
    {
      "cell_type": "markdown",
      "source": [
        "# Model\n",
        "- There are 2 similar Models:\n",
        "  - A Model with Parameters (nn.Parameter()) -> Doesn't work well for the Predictions (should not be used in this state)\n",
        "  - A Model with Linear Layers (nn.Linear())\n",
        "- The Model with the Linear Layers is the improved Version from the Model with Parameters with the Help from ChatGTP"
      ],
      "metadata": {
        "id": "zQ67v1u4eqjN"
      }
    },
    {
      "cell_type": "markdown",
      "source": [
        "### Encoder / Decoder - Model with Parameters"
      ],
      "metadata": {
        "id": "3Dz9YWcLfUTY"
      }
    },
    {
      "cell_type": "code",
      "source": [
        "class InputAttention(nn.Module):\n",
        "  def __init__(self, T, N, M):\n",
        "    super(InputAttention, self).__init__()\n",
        "\n",
        "    self.T = T #number of time steps in the window T\n",
        "    self.N = N #LSTM input_size\n",
        "    self.M = M #size of hidden states for the encoder\n",
        "\n",
        "    self.v_e = nn.Parameter(torch.zeros((self.T, 1)))\n",
        "    self.W_e = nn.Parameter(torch.zeros((2 * self.M, self.T)))\n",
        "    self.U_e = nn.Parameter(torch.zeros((self.T, self.T)))\n",
        "\n",
        "    self.lstm = nn.LSTMCell(input_size=self.N, hidden_size=self.M)\n",
        "\n",
        "  def forward(self, X):\n",
        "    batch_size = X.size(0)\n",
        "    hidden = torch.zeros((batch_size, self.M)).to(device)\n",
        "    cell = torch.zeros((batch_size, self.M)).to(device)\n",
        "\n",
        "    encode = torch.zeros((batch_size, self.T, self.M))\n",
        "\n",
        "    for t in range(self.T):\n",
        "      h_c = torch.cat((hidden, cell), dim=1)\n",
        "\n",
        "      a = (h_c @ self.W_e).unsqueeze(1).expand(-1, self.N, -1)\n",
        "      b = X.permute(0, 2, 1) @ self.U_e\n",
        "      \n",
        "      e_t = (torch.tanh(a + b) @ self.v_e).squeeze()\n",
        "      a_t = torch.softmax(e_t, dim=1)\n",
        "\n",
        "      attention_weighted_inputs = a_t * X[:, t, :]\n",
        "\n",
        "      hidden, cell = self.lstm(attention_weighted_inputs, (hidden, cell))\n",
        "\n",
        "      encode[:, t, :] = hidden\n",
        "    return encode\n",
        "\n",
        "class Encoder(nn.Module):\n",
        "  def __init__(self, T, N, M):\n",
        "    super(Encoder, self).__init__()\n",
        "    self.input_attention = InputAttention(T, N, M).to(device)\n",
        "\n",
        "  def forward(self, X):\n",
        "    encoded_X = self.input_attention(X)\n",
        "    return encoded_X\n",
        "\n",
        "#--------------------------------------------------------------------\n",
        "\n",
        "class TemporalAttention(nn.Module):\n",
        "  def __init__(self, T, P, M):\n",
        "    super(TemporalAttention, self).__init__()\n",
        "    self.T = T #number of time steps in the window T\n",
        "    self.P = P #size of hidden states for the decoder\n",
        "    self.M = M #size of hidden states for the encoder\n",
        "\n",
        "    self.v_d = nn.Parameter(torch.zeros((self.M, 1)))\n",
        "    self.W_d = nn.Parameter(torch.zeros((2*self.P, self.M)))\n",
        "    self.U_d = nn.Parameter(torch.zeros((self.M, self.M)))\n",
        "\n",
        "    self.w_tilde = nn.Parameter(torch.zeros((self.M+1, 1)))\n",
        "    self.W_y = nn.Parameter(torch.zeros((self.P + self.M, self.P)))\n",
        "    self.v_y = nn.Parameter(torch.zeros((self.P, 1)))\n",
        "\n",
        "    self.b_tilde = nn.Parameter(torch.zeros((1, 1)))\n",
        "    self.b_w = nn.Parameter(torch.zeros(1, self.P))\n",
        "    self.b_v = nn.Parameter(torch.zeros((1, 1)))\n",
        "    \n",
        "    self.lstm = nn.LSTMCell(input_size=1, hidden_size=self.P)\n",
        "\n",
        "  def forward(self, encoded_x, y):\n",
        "    batch_size = encoded_x.size(0)\n",
        "\n",
        "    hidden = torch.zeros((batch_size, self.P)).to(device)\n",
        "    cell = torch.zeros((batch_size, self.P)).to(device)\n",
        "\n",
        "    for t in range(self.T):\n",
        "      d_s = torch.cat((hidden, cell), dim=1)\n",
        "\n",
        "      a = (d_s @ self.W_d).unsqueeze(1).expand(-1, encoded_x.size(1), -1)\n",
        "      b = encoded_x @ self.U_d\n",
        "      \n",
        "      l_t = torch.tanh(a + b) @ self.v_d\n",
        "      b_t = torch.softmax(l_t, dim=1)\n",
        "      c_t = torch.sum(b_t * encoded_x, dim=1)\n",
        "\n",
        "      ct_yt_concat = torch.cat((c_t, y[:, t, :]), dim=1)\n",
        "      y_t_tilde = ct_yt_concat @ self.w_tilde + self.b_tilde\n",
        "      hidden, cell = self.lstm(y_t_tilde, (hidden, cell))\n",
        "    \n",
        "    hidden_ct_concat = torch.cat((hidden, c_t), dim=1)\n",
        "    c = (hidden_ct_concat @ self.W_y + self.b_w)\n",
        "    y_T = c @ self.v_y + self.b_v\n",
        "    return y_T\n",
        "\n",
        "class Decoder(nn.Module):\n",
        "  def __init__(self, T, P, M):\n",
        "    super(Decoder, self).__init__()\n",
        "    self.temporal_attention = TemporalAttention(T, P, M)\n",
        "\n",
        "  def forward(self, X_tilde, y):\n",
        "    y_decoded = self.temporal_attention(X_tilde, y).to(device)\n",
        "    return y_decoded"
      ],
      "metadata": {
        "id": "_MIVg0P_htRe"
      },
      "execution_count": 22,
      "outputs": []
    },
    {
      "cell_type": "markdown",
      "source": [
        "### Encoder / Decoder - Model with Linear Layers"
      ],
      "metadata": {
        "id": "8rwpMh-yLkXr"
      }
    },
    {
      "cell_type": "code",
      "source": [
        "class InputAttention(nn.Module):\n",
        "  def __init__(self, T, N, M):\n",
        "    super(InputAttention, self).__init__()\n",
        "\n",
        "    self.T = T #number of time steps in the window T\n",
        "    self.N = N #LSTM input_size\n",
        "    self.M = M #size of hidden states for the encoder\n",
        "\n",
        "    self.v_e = nn.Linear(in_features=self.T, out_features=1)\n",
        "    self.W_e = nn.Linear(in_features=2 * self.M, out_features=self.T)\n",
        "    self.U_e = nn.Linear(in_features=self.T, out_features=self.T)\n",
        "\n",
        "    self.lstm = nn.LSTMCell(input_size=self.N, hidden_size=self.M)\n",
        "\n",
        "  def forward(self, X):\n",
        "    batch_size = X.size(0)\n",
        "    hidden = torch.zeros((batch_size, self.M)).to(device)\n",
        "    cell = torch.zeros((batch_size, self.M)).to(device)\n",
        "\n",
        "    encode = torch.zeros((batch_size, self.T, self.M))\n",
        "\n",
        "    for t in range(self.T):\n",
        "      h_c = torch.cat((hidden, cell), dim=1)\n",
        "\n",
        "      a = self.W_e(h_c).unsqueeze(1).expand(-1, self.N, -1)\n",
        "      b = self.U_e(X.permute(0, 2, 1))\n",
        "      \n",
        "      e_t = self.v_e(torch.tanh(a + b)).squeeze()\n",
        "      a_t = torch.softmax(e_t, dim=1)\n",
        "\n",
        "      hidden, cell = self.lstm(a_t * X[:, t, :], (hidden, cell))\n",
        "\n",
        "      encode[:, t, :] = hidden\n",
        "    return encode\n",
        "\n",
        "class Encoder(nn.Module):\n",
        "  def __init__(self, T, N, M):\n",
        "    super(Encoder, self).__init__()\n",
        "    self.input_attention = InputAttention(T, N, M)\n",
        "\n",
        "  def forward(self, X):\n",
        "    encoded_X = self.input_attention(X)\n",
        "    return encoded_X\n",
        "\n",
        "#--------------------------------------------------------------------\n",
        "\n",
        "class TemporalAttention(nn.Module):\n",
        "  def __init__(self, T, P, M):\n",
        "    super(TemporalAttention, self).__init__()\n",
        "    self.T = T #number of time steps in the window T\n",
        "    self.P = P #size of hidden states for the decoder\n",
        "    self.M = M #size of hidden states for the encoder\n",
        "\n",
        "    self.v_d = nn.Linear(in_features=self.M, out_features=1)\n",
        "    self.W_d = nn.Linear(in_features=2*self.P, out_features=self.M)\n",
        "    self.U_d = nn.Linear(in_features=self.M, out_features=self.M)\n",
        "\n",
        "    self.w_tilde = nn.Linear(in_features=self.M + 1, out_features=1)\n",
        "    self.W_y = nn.Linear(in_features=self.P + self.M, out_features=self.P)\n",
        "    self.v_y = nn.Linear(in_features=self.P, out_features=1)\n",
        "    \n",
        "    self.lstm = nn.LSTMCell(input_size=1, hidden_size=self.P)\n",
        "\n",
        "  def forward(self, encoded_x, y):\n",
        "    batch_size = encoded_x.size(0)\n",
        "\n",
        "    hidden = torch.zeros((batch_size, self.P)).to(device)\n",
        "    cell = torch.zeros((batch_size, self.P)).to(device)\n",
        "\n",
        "    for t in range(self.T):\n",
        "      d_s = torch.cat((hidden, cell), dim=1)\n",
        "\n",
        "      a = self.W_d(d_s).unsqueeze(1).expand(-1, encoded_x.size(1), -1)\n",
        "      b = self.U_d(encoded_x)\n",
        "      \n",
        "      l_t = self.v_d(torch.tanh(a + b))\n",
        "      b_t = torch.softmax(l_t, dim=1)\n",
        "      c_t = torch.sum(b_t * encoded_x, dim=1)\n",
        "\n",
        "      ct_yt_concat = torch.cat((c_t, y[:, t, :]), dim=1)\n",
        "      y_t_tilde = self.w_tilde(ct_yt_concat)\n",
        "      hidden, cell = self.lstm(y_t_tilde, (hidden, cell))\n",
        "    \n",
        "    hidden_ct_concat = torch.cat((hidden, c_t), dim=1)\n",
        "    c = self.W_y(hidden_ct_concat)\n",
        "    y_T = self.v_y(c)\n",
        "    return y_T\n",
        "\n",
        "class Decoder(nn.Module):\n",
        "  def __init__(self, T, P, M):\n",
        "    super(Decoder, self).__init__()\n",
        "    self.temporal_attention = TemporalAttention(T, P, M)\n",
        "\n",
        "  def forward(self, X_tilde, y):\n",
        "    y_decoded = self.temporal_attention(X_tilde, y)\n",
        "    return y_decoded"
      ],
      "metadata": {
        "id": "XT-M-JulLj4H"
      },
      "execution_count": 25,
      "outputs": []
    },
    {
      "cell_type": "code",
      "source": [
        "#@title Complete Model\n",
        "class DualStage_Attention_RNN(nn.Module):\n",
        "  def __init__(self, N, M, P, T):\n",
        "    super(DualStage_Attention_RNN, self).__init__()\n",
        "\n",
        "    self.N = N #LSTM input_size\n",
        "    self.M = M #size of hidden states for the encoder\n",
        "    self.P = P #size of hidden states for the decoder\n",
        "    self.T = T #number of time steps in the window T\n",
        "\n",
        "    self.encoder = Encoder(T, N, M).to(device)\n",
        "    self.decoder = Decoder(T, P, M).to(device)\n",
        "\n",
        "  def forward(self, x, y):\n",
        "    encoded_X = self.encoder(x)\n",
        "    output = self.decoder(encoded_X, y)\n",
        "    #print('Final Output Shape', output.shape)\n",
        "    return output"
      ],
      "metadata": {
        "id": "RbrFWVlleuGl"
      },
      "execution_count": 26,
      "outputs": []
    },
    {
      "cell_type": "markdown",
      "source": [
        "### Model Architecture\n",
        "\n"
      ],
      "metadata": {
        "id": "rrog_7XQodXa"
      }
    },
    {
      "cell_type": "code",
      "source": [
        "dsa_rnn_model = DualStage_Attention_RNN(81, 64, 64, 10)\n",
        "summary(dsa_rnn_model, [(128, 10, 81), (128, 10, 1)]) #test pass through of an example input"
      ],
      "metadata": {
        "id": "7ej0TB_focsX"
      },
      "execution_count": null,
      "outputs": []
    },
    {
      "cell_type": "code",
      "source": [
        "def print_model_summary(model):\n",
        "    table = PrettyTable([\"Layer\", \"Size\", \"Parameters\"])\n",
        "    total_params = 0\n",
        "    print(\"Model Summary:\")\n",
        "    for name, param in model.named_parameters():\n",
        "        if not param.requires_grad:\n",
        "            continue\n",
        "        size = param.size()\n",
        "        params = param.numel()\n",
        "        table.add_row([name, size, params])\n",
        "        total_params += params\n",
        "    print(table)\n",
        "    print(f\"Total Trainable Params: {total_params}\")\n",
        "    return total_params\n",
        "\n",
        "print_model_summary(dsa_rnn_model)"
      ],
      "metadata": {
        "id": "E4vm_Z6wz7Qe"
      },
      "execution_count": null,
      "outputs": []
    },
    {
      "cell_type": "code",
      "source": [
        "#@title Tensorboard Tracking\n",
        "def create_writer(experiment_name: str, \n",
        "                  model_name: str, \n",
        "                  extra: str=None):\n",
        "  timestamp = datetime.now().strftime(\"%Y-%m-%d\")\n",
        "  log_dir = os.path.join(\"runs\", timestamp, experiment_name, model_name)\n",
        "\n",
        "  if extra:\n",
        "      log_dir = os.path.join(log_dir, extra)\n",
        "      \n",
        "  print(f\"[INFO] Created SummaryWriter, saving to: {log_dir}...\")\n",
        "  return SummaryWriter(log_dir=log_dir)"
      ],
      "metadata": {
        "id": "ghIscCueuId5"
      },
      "execution_count": 15,
      "outputs": []
    },
    {
      "cell_type": "code",
      "source": [
        "#@title Saving Model\n",
        "#https://www.learnpytorch.io/05_pytorch_going_modular/#5-creating-a-function-to-save-the-model-utilspy\n",
        "def save_model(model: torch.nn.Module,\n",
        "               target_dir: str,\n",
        "               model_name: str):\n",
        "  #Create target directory\n",
        "  target_dir_path = Path(target_dir)\n",
        "  target_dir_path.mkdir(parents=True,\n",
        "                        exist_ok=True)\n",
        "\n",
        "  #Create model save path\n",
        "  if not model_name.endswith(\".pth\") and not model_name.endswith(\".pt\"):\n",
        "    raise ValueError(\"model_name should end with '.pt' or '.pth'\")\n",
        "  model_save_path = target_dir_path / model_name\n",
        "\n",
        "  #Save the model state_dict()\n",
        "  print(f\"[INFO] Saving model to: {model_save_path}\")\n",
        "  torch.save(obj=model.state_dict(),\n",
        "             f=model_save_path)"
      ],
      "metadata": {
        "id": "LFZWkdvkgLjw"
      },
      "execution_count": 16,
      "outputs": []
    },
    {
      "cell_type": "markdown",
      "source": [
        "# Model Fitting"
      ],
      "metadata": {
        "id": "uUDDs3-hgFKV"
      }
    },
    {
      "cell_type": "code",
      "source": [
        "#@title Train Loop\n",
        "def training(model: torch.nn.Module, \n",
        "             dataloader: torch.utils.data.DataLoader, \n",
        "             loss_fn: torch.nn.Module, \n",
        "             optimizer: torch.optim.Optimizer,\n",
        "             eval_metrics):\n",
        "  #train mode\n",
        "  model.train()\n",
        "  train_loss = 0\n",
        "\n",
        "  #metrics\n",
        "  train_metrics = [0, 0, 0]\n",
        "  \n",
        "  for batch, (X, y_h, y) in enumerate(dataloader):\n",
        "    X, y_h, y = X.to(device), y_h.to(device), y.to(device)\n",
        "\n",
        "    y_preds = model(X, y_h).squeeze(1)\n",
        "\n",
        "    loss = loss_fn(y_preds, y)\n",
        "    train_loss += loss.item()\n",
        "\n",
        "    for i, t_met in enumerate(eval_metrics):\n",
        "      err = t_met(y_preds, y)\n",
        "      train_metrics[i] += err.item()\n",
        "\n",
        "    optimizer.zero_grad()\n",
        "    loss.backward()\n",
        "    optimizer.step()\n",
        "  \n",
        "  for i in range(len(train_metrics)):\n",
        "    train_metrics[i] /= len(dataloader)\n",
        "\n",
        "  train_loss /= len(dataloader)\n",
        "  return train_loss, train_metrics"
      ],
      "metadata": {
        "id": "ADu_IbuOgJOg"
      },
      "execution_count": 17,
      "outputs": []
    },
    {
      "cell_type": "code",
      "source": [
        "#@title Validation Loop\n",
        "def validating(model: torch.nn.Module, \n",
        "               dataloader: torch.utils.data.DataLoader, \n",
        "               loss_fn: torch.nn.Module,\n",
        "               eval_metrics):\n",
        "  #eval mode\n",
        "  model.eval()\n",
        "  val_loss = 0\n",
        "\n",
        "  #metrics\n",
        "  val_metrics = [0, 0, 0]\n",
        "  \n",
        "  with torch.inference_mode():\n",
        "    for batch, (X, y_h, y) in enumerate(dataloader):\n",
        "      X, y_h, y = X.to(device), y_h.to(device), y.to(device)\n",
        "\n",
        "      val_preds = model(X, y_h).squeeze(1)\n",
        "\n",
        "      loss = loss_fn(val_preds, y)\n",
        "      val_loss += loss.item()\n",
        "\n",
        "      for i, e_met in enumerate(eval_metrics):\n",
        "        err = e_met(val_preds, y)\n",
        "        val_metrics[i] += err.item()\n",
        "\n",
        "  for i in range(len(val_metrics)):\n",
        "    val_metrics[i] /= len(dataloader)\n",
        "\n",
        "  val_loss /= len(dataloader)\n",
        "  return val_loss, val_metrics"
      ],
      "metadata": {
        "id": "YQK2dbjSgJMR"
      },
      "execution_count": 18,
      "outputs": []
    },
    {
      "cell_type": "code",
      "source": [
        "#@title Testing Loop\n",
        "def testing(model: torch.nn.Module, \n",
        "            dataloader: torch.utils.data.DataLoader, \n",
        "            loss_fn: torch.nn.Module):\n",
        "  #eval mode\n",
        "  model.eval()\n",
        "  test_loss = 0\n",
        "\n",
        "  #for plotting\n",
        "  true, preds = [], []\n",
        "  \n",
        "  with torch.inference_mode():\n",
        "    for batch, (X, y_h, y) in enumerate(dataloader):\n",
        "      X, y_h, y = X.to(device), y_h.to(device), y.to(device)\n",
        "\n",
        "      test_preds = model(X, y_h)\n",
        "\n",
        "      loss = loss_fn(test_preds.squeeze(1), y)\n",
        "      test_loss += loss.item()\n",
        "\n",
        "      true.append(y.detach().cpu().numpy())\n",
        "      preds.append(test_preds.detach().cpu().numpy())\n",
        "\n",
        "  out_true, out_preds = np.concatenate(true), np.concatenate(preds)\n",
        "      \n",
        "  test_loss /= len(dataloader)\n",
        "  return test_loss, out_true, out_preds"
      ],
      "metadata": {
        "id": "qPAfsin3qdOE"
      },
      "execution_count": 19,
      "outputs": []
    },
    {
      "cell_type": "code",
      "source": [
        "#@title Main Fit Loop\n",
        "def fit(model: torch.nn.Module, \n",
        "        train_dataloader: torch.utils.data.DataLoader, \n",
        "        val_dataloader: torch.utils.data.DataLoader, \n",
        "        optimizer: torch.optim.Optimizer,\n",
        "        lr_scheduler: torch.optim.lr_scheduler,\n",
        "        loss_fn: torch.nn.Module,\n",
        "        epochs: int,\n",
        "        eval_metrics,\n",
        "        writer: torch.utils.tensorboard.writer.SummaryWriter):\n",
        "  #result dictionary\n",
        "  results = {\n",
        "      \"train_loss\": [],\n",
        "      \"val_loss\": []\n",
        "      }\n",
        "  \n",
        "  for epoch in tqdm(range(epochs)):\n",
        "    train_loss, train_metrics = training(model=model,\n",
        "                          dataloader=train_dataloader,\n",
        "                          loss_fn=loss_fn,\n",
        "                          optimizer=optimizer,\n",
        "                          eval_metrics=eval_metrics)\n",
        "      \n",
        "    val_loss, val_metrics = validating(model=model,\n",
        "                        dataloader=val_dataloader,\n",
        "                        loss_fn=loss_fn,\n",
        "                        eval_metrics=eval_metrics)\n",
        "    \n",
        "    #Update learning rate\n",
        "    lr_scheduler.step()\n",
        "    \n",
        "    if epoch % 5 == 0:\n",
        "      print(f\"Epoch: {epoch} | Train_Loss: {train_loss:.5f} | Val_Loss: {val_loss:.5f}\")\n",
        "\n",
        "    #Store losses\n",
        "    results[\"train_loss\"].append(train_loss)\n",
        "    results[\"val_loss\"].append(val_loss)\n",
        "\n",
        "    #Save metrics to TensorBoard\n",
        "    if writer:\n",
        "      #Add results to SummaryWriter\n",
        "      writer.add_scalars(main_tag=\"Loss\", \n",
        "                         tag_scalar_dict={\"train_loss\": train_loss,\n",
        "                                          \"val_loss\": val_loss},\n",
        "                         global_step=epoch)\n",
        "      \n",
        "      writer.add_scalars(main_tag=\"Evaluation Metrics\", \n",
        "                         tag_scalar_dict={\"train_RMSE\": train_metrics[0],\n",
        "                                          \"train_MAE\": train_metrics[1],\n",
        "                                          \"train_MAPE\": train_metrics[2],\n",
        "                                          \"val_RMSE\": val_metrics[0],\n",
        "                                          \"val_MAE\": val_metrics[1],\n",
        "                                          \"val_MAPE\": val_metrics[2]},\n",
        "                         global_step=epoch)\n",
        "      writer.close()\n",
        "\n",
        "  return results"
      ],
      "metadata": {
        "id": "SnkV5OvngJJk"
      },
      "execution_count": 20,
      "outputs": []
    },
    {
      "cell_type": "code",
      "source": [
        "#@title RMSE Loss Function\n",
        "#https://discuss.pytorch.org/t/rmse-loss-function/16540/2\n",
        "def RMSELoss(y_pred,y):\n",
        "  assert y_pred.size() == y.size(), \"Expected y_pred and y to have the same size\"\n",
        "  return torch.sqrt(torch.mean((y_pred-y)**2))"
      ],
      "metadata": {
        "id": "GsN93Jyepigi"
      },
      "execution_count": 21,
      "outputs": []
    },
    {
      "cell_type": "code",
      "source": [
        "#@title Fitting\n",
        "#Set random seeds\n",
        "torch.manual_seed(10) \n",
        "torch.cuda.manual_seed(10)\n",
        "\n",
        "EPOCHS = 30 #should be at least 30-50 epochs to see actual results\n",
        "\n",
        "N = X_train_t.shape[2] #81\n",
        "M = P = 64 #or 128\n",
        "T = 10 #Dataset 'num_timesteps' would need to be changed first before T can be changed\n",
        "\n",
        "#Instantiate the model\n",
        "dsa_rnn_model = DualStage_Attention_RNN(N, M, P, T).to(device)\n",
        "\n",
        "#Define loss function and optimizer with learning rate decay\n",
        "loss_fn = nn.MSELoss()\n",
        "optimizer = optim.Adam(params=dsa_rnn_model.parameters(), lr=0.001)\n",
        "lr_scheduler = optim.lr_scheduler.StepLR(optimizer=optimizer, step_size=15, gamma=0.8) #in the paper it's 10 % every 10.000 iterations\n",
        "\n",
        "#Evaluation Metrics\n",
        "eval_metrics = [RMSELoss, nn.L1Loss(), MAPE()]\n",
        "\n",
        "#Start timer\n",
        "start = timer()\n",
        "\n",
        "#Fit model\n",
        "model_results = fit(model=dsa_rnn_model, \n",
        "                    train_dataloader=train_dataloader,\n",
        "                    val_dataloader=val_dataloader,\n",
        "                    optimizer=optimizer,\n",
        "                    lr_scheduler=lr_scheduler,\n",
        "                    loss_fn=loss_fn, \n",
        "                    epochs=EPOCHS,\n",
        "                    eval_metrics=eval_metrics,\n",
        "                    writer=create_writer(experiment_name='NASDAQ100', model_name='dsa_rnn_model'))\n",
        "\n",
        "print(f\"Total fitting time: {timer()-start:.3f} seconds\")\n",
        "#print(model_results)"
      ],
      "metadata": {
        "id": "iprJFYTFeuES"
      },
      "execution_count": null,
      "outputs": []
    },
    {
      "cell_type": "code",
      "source": [
        "#Viewing TensorBoard in Jupyter and Google Colab Notebooks\n",
        "%load_ext tensorboard\n",
        "%tensorboard --logdir runs"
      ],
      "metadata": {
        "id": "9rn5nQVXeuCN"
      },
      "execution_count": null,
      "outputs": []
    },
    {
      "cell_type": "code",
      "source": [
        "#@title Test Data and Plotting\n",
        "test_loss, true_values, predicted_values = testing(model=dsa_rnn_model,\n",
        "                                                   dataloader=test_dataloader,\n",
        "                                                   loss_fn=loss_fn)\n",
        "\n",
        "#scale up the values -> they were downscaled at the beginning\n",
        "true_values = true_values*(target_train_max - target_train_min) + target_train_min\n",
        "predicted_values = predicted_values*(target_train_max - target_train_min) + target_train_min\n",
        "\n",
        "# Plotting\n",
        "plt.figure(figsize=(18, 9))\n",
        "plt.title(f'[NASDAQ100] Time Series - Test Loss: {test_loss:.5f}')\n",
        "plt.xlabel('Number of Samples')\n",
        "plt.ylabel('Price')\n",
        "plt.plot(true_values, color='green', label='True')\n",
        "plt.plot(predicted_values, color='red', label='Predicted')\n",
        "plt.legend(loc=\"upper left\")\n",
        "plt.show()"
      ],
      "metadata": {
        "id": "AhsJG9XYq_TU"
      },
      "execution_count": null,
      "outputs": []
    },
    {
      "cell_type": "code",
      "source": [
        "#@title Experiment Tracking (This will take a long time)\n",
        "#Set random seeds\n",
        "torch.manual_seed(10) \n",
        "torch.cuda.manual_seed(10)\n",
        "\n",
        "#Experiment Parameters - These are the most important parameters from this paper\n",
        "num_EPOCHS = [1, 5, 10]\n",
        "N = X_train_t.shape[2] #81\n",
        "M_P_params = [16, 32, 64]\n",
        "T = 10 #can't be changed that easily -> the dataset is preprocessed with T = 10\n",
        "\n",
        "#start experiments\n",
        "for experiment_num, epoch in enumerate(num_EPOCHS, start=1):\n",
        "  for m_p_param in M_P_params:\n",
        "\n",
        "      print(f\"[INFO] Experiment number: {experiment_num}\")\n",
        "      print(f\"[INFO] M_P-Parameters: {m_p_param}\")\n",
        "      print(f\"[INFO] Number of epochs: {epoch}\")  \n",
        "\n",
        "      #Instantiate the model\n",
        "      dsa_rnn_model = DualStage_Attention_RNN(N, m_p_param, m_p_param, T).to(device)\n",
        "\n",
        "      #Define loss function and optimizer with learning rate decay\n",
        "      loss_fn = nn.MSELoss()\n",
        "      optimizer = optim.Adam(params=dsa_rnn_model.parameters(), lr=0.001)\n",
        "      lr_scheduler = optim.lr_scheduler.StepLR(optimizer=optimizer, step_size=15, gamma=0.8)\n",
        "\n",
        "      #Evaluation Metrics\n",
        "      eval_metrics = [RMSELoss, nn.L1Loss(), MAPE()]\n",
        "\n",
        "      #start timer\n",
        "      start = timer()\n",
        "\n",
        "      fit(model=dsa_rnn_model, \n",
        "          train_dataloader=train_dataloader,\n",
        "          val_dataloader=val_dataloader,\n",
        "          optimizer=optimizer,\n",
        "          lr_scheduler=lr_scheduler,\n",
        "          loss_fn=loss_fn, \n",
        "          epochs=epoch,\n",
        "          eval_metrics=eval_metrics,\n",
        "          writer=create_writer(experiment_name='NASDAQ100', model_name='dsa_rnn_model', extra=f\"{epoch}_epochs\"))\n",
        "\n",
        "      print(f\"Total fitting time: {timer()-start:.3f} seconds\")\n",
        "\n",
        "      #save model state_dict\n",
        "      save_filepath = f\"dsa_rnn_model_NASDAQ100_{epoch}_epochs.pth\"\n",
        "      save_model(model=dsa_rnn_model,\n",
        "                 target_dir=\"models\",\n",
        "                 model_name=save_filepath)\n",
        "      print(\"-\"*35 + \"\\n\")"
      ],
      "metadata": {
        "id": "O7ElRmfNdMtd"
      },
      "execution_count": null,
      "outputs": []
    },
    {
      "cell_type": "code",
      "source": [
        "#Viewing TensorBoard in Jupyter and Google Colab Notebooks\n",
        "#%load_ext tensorboard\n",
        "#%tensorboard --logdir runs"
      ],
      "metadata": {
        "id": "fFyw_fpshkeD"
      },
      "execution_count": null,
      "outputs": []
    },
    {
      "cell_type": "code",
      "source": [
        "#@title Load the best model\n",
        "# Setup the best model filepath\n",
        "model_path = \".pth\" #Path needs to be filled in\n",
        "#create model with correct parameters\n",
        "model = DualStage_Attention_RNN() #Correct parameters need to be filled in\n",
        "#load model state_dict\n",
        "try:\n",
        "    model.load_state_dict(torch.load(model_path, map_location=device))\n",
        "    print(\"Model loaded successfully!\")\n",
        "except FileNotFoundError:\n",
        "    print(\"Model file not found.\")\n",
        "\n",
        "test_loss, true_values, predicted_values = testing(model=model,\n",
        "                                                   dataloader=test_dataloader,\n",
        "                                                   loss_fn=loss_fn)\n",
        "\n",
        "#scale up the values -> they were downscaled at the beginning\n",
        "true_values = true_values*(target_train_max - target_train_min) + target_train_min\n",
        "predicted_values = predicted_values*(target_train_max - target_train_min) + target_train_min\n",
        "\n",
        "# Plotting\n",
        "plt.figure(figsize=(18, 9))\n",
        "plt.title(f'[NASDAQ100] Time Series - Test Loss: {test_loss:.5f}')\n",
        "plt.xlabel('Number of Samples')\n",
        "plt.ylabel('Price')\n",
        "plt.plot(true_values, color='green', label='True')\n",
        "plt.plot(predicted_values, color='red', label='Predicted')\n",
        "plt.legend(loc=\"upper left\")\n",
        "plt.show()"
      ],
      "metadata": {
        "id": "1s6Sa9jHiMoF"
      },
      "execution_count": null,
      "outputs": []
    }
  ]
}